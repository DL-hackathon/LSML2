{
 "cells": [
  {
   "cell_type": "code",
   "execution_count": 1,
   "metadata": {
    "_cell_guid": "b1076dfc-b9ad-4769-8c92-a6c4dae69d19",
    "_uuid": "8f2839f25d086af736a60e9eeb907d3b93b6e0e5",
    "execution": {
     "iopub.execute_input": "2023-11-11T12:10:20.583630Z",
     "iopub.status.busy": "2023-11-11T12:10:20.582890Z",
     "iopub.status.idle": "2023-11-11T12:10:23.412161Z",
     "shell.execute_reply": "2023-11-11T12:10:23.411335Z",
     "shell.execute_reply.started": "2023-11-11T12:10:20.583593Z"
    }
   },
   "outputs": [
    {
     "name": "stderr",
     "output_type": "stream",
     "text": [
      "/opt/conda/lib/python3.10/site-packages/scipy/__init__.py:146: UserWarning: A NumPy version >=1.16.5 and <1.23.0 is required for this version of SciPy (detected version 1.23.5\n",
      "  warnings.warn(f\"A NumPy version >={np_minversion} and <{np_maxversion}\"\n"
     ]
    }
   ],
   "source": [
    "import torchvision\n",
    "import torchvision.transforms as transforms\n",
    "import torch\n",
    "import os\n",
    "import glob\n",
    "import numpy as np\n",
    "import matplotlib.pyplot as plt\n",
    "import pandas as pd\n",
    "from sklearn.model_selection import train_test_split\n",
    "from tqdm import tqdm\n",
    "from torch import nn\n",
    "import time\n",
    "import random\n",
    "from PIL import Image\n",
    "from tempfile import TemporaryDirectory\n",
    "from torch.optim import lr_scheduler"
   ]
  },
  {
   "cell_type": "markdown",
   "metadata": {},
   "source": [
    "### Multi-lingual HateSpeech Dataset \n",
    "\n",
    "The dataset is hosted on Kaggle in this [repo](https://www.kaggle.com/datasets/wajidhassanmoosa/multilingual-hatespeech-dataset)\n",
    "\n",
    "#### About Dataset\n",
    "\n",
    "This dataset contains hate speech text with labels where **0** represents **non-hate** and **1** shows **hate\n",
    "texts** also the data from different languages needed to be identified as a corresponding\n",
    "correct language. The following are the languages in the dataset with the numbers corresponding to that language.\n",
    "(1 Arabic)(2 English)(3 Chinese)(4 French) (5 German) (6 Russian)(7 Turkish) (8 Roman Hindi/Urdu) (9 Korean)(10 Italian) (11 Spanish)(12 Portuguese) (13 Indonesian)\n",
    "\n",
    "The Dataset also contains LASER 1024-Dimensional embedding for training and test data."
   ]
  },
  {
   "cell_type": "markdown",
   "metadata": {},
   "source": [
    "**The goal of our model is to classify whether the text is hate or not.**"
   ]
  },
  {
   "cell_type": "markdown",
   "metadata": {},
   "source": [
    "### 1. Data analysis"
   ]
  },
  {
   "cell_type": "markdown",
   "metadata": {},
   "source": [
    "We will use pandas to parse the training dataset and look at a few of its properties and data points."
   ]
  },
  {
   "cell_type": "markdown",
   "metadata": {},
   "source": [
    "To maintain repeatability we will use `seed_everything` function recommended [here](https://gist.github.com/ihoromi4/b681a9088f348942b01711f251e5f964)"
   ]
  },
  {
   "cell_type": "code",
   "execution_count": 2,
   "metadata": {
    "execution": {
     "iopub.execute_input": "2023-11-11T12:10:25.239492Z",
     "iopub.status.busy": "2023-11-11T12:10:25.238465Z",
     "iopub.status.idle": "2023-11-11T12:10:25.245588Z",
     "shell.execute_reply": "2023-11-11T12:10:25.244392Z",
     "shell.execute_reply.started": "2023-11-11T12:10:25.239457Z"
    }
   },
   "outputs": [],
   "source": [
    "def seed_everything(seed: int):\n",
    "  '''\n",
    "  This function is used to maintain repeatability\n",
    "  '''\n",
    "  random.seed(seed)\n",
    "  os.environ['PYTHONHASHSEED'] = str(seed)\n",
    "  np.random.seed(seed)\n",
    "  torch.manual_seed(seed)\n",
    "  torch.cuda.manual_seed(seed)\n",
    "  torch.backends.cudnn.deterministic = True\n",
    "  torch.backends.cudnn.benchmark = False"
   ]
  },
  {
   "cell_type": "code",
   "execution_count": 10,
   "metadata": {
    "execution": {
     "iopub.execute_input": "2023-11-11T12:13:13.151091Z",
     "iopub.status.busy": "2023-11-11T12:13:13.150395Z",
     "iopub.status.idle": "2023-11-11T12:13:13.838640Z",
     "shell.execute_reply": "2023-11-11T12:13:13.837853Z",
     "shell.execute_reply.started": "2023-11-11T12:13:13.151058Z"
    }
   },
   "outputs": [],
   "source": [
    "train_data = '/kaggle/input/multilingual-hatespeech-dataset/Dataset/Training/MultiLanguageTrainDataset.csv'\n",
    "df_train = pd.read_csv(train_data, index_col=0)"
   ]
  },
  {
   "cell_type": "code",
   "execution_count": 11,
   "metadata": {
    "execution": {
     "iopub.execute_input": "2023-11-11T12:13:17.143041Z",
     "iopub.status.busy": "2023-11-11T12:13:17.142666Z",
     "iopub.status.idle": "2023-11-11T12:13:17.162413Z",
     "shell.execute_reply": "2023-11-11T12:13:17.161499Z",
     "shell.execute_reply.started": "2023-11-11T12:13:17.143015Z"
    }
   },
   "outputs": [
    {
     "name": "stdout",
     "output_type": "stream",
     "text": [
      "Number of training samples: 219981.\n",
      "\n"
     ]
    },
    {
     "data": {
      "text/html": [
       "<div>\n",
       "<style scoped>\n",
       "    .dataframe tbody tr th:only-of-type {\n",
       "        vertical-align: middle;\n",
       "    }\n",
       "\n",
       "    .dataframe tbody tr th {\n",
       "        vertical-align: top;\n",
       "    }\n",
       "\n",
       "    .dataframe thead th {\n",
       "        text-align: right;\n",
       "    }\n",
       "</style>\n",
       "<table border=\"1\" class=\"dataframe\">\n",
       "  <thead>\n",
       "    <tr style=\"text-align: right;\">\n",
       "      <th></th>\n",
       "      <th>text</th>\n",
       "      <th>label</th>\n",
       "      <th>language</th>\n",
       "    </tr>\n",
       "  </thead>\n",
       "  <tbody>\n",
       "    <tr>\n",
       "      <th>108239</th>\n",
       "      <td>У нас в России нет чувства налогоплательщика, ...</td>\n",
       "      <td>0.0</td>\n",
       "      <td>6</td>\n",
       "    </tr>\n",
       "    <tr>\n",
       "      <th>136061</th>\n",
       "      <td>Çok zekiyim ama kendimi vermiyorum</td>\n",
       "      <td>0.0</td>\n",
       "      <td>7</td>\n",
       "    </tr>\n",
       "    <tr>\n",
       "      <th>145789</th>\n",
       "      <td>olay AKP/MHP çetesinin, muhalefeti parçalama g...</td>\n",
       "      <td>1.0</td>\n",
       "      <td>7</td>\n",
       "    </tr>\n",
       "    <tr>\n",
       "      <th>64312</th>\n",
       "      <td>请小姐姐多在知乎发言，那边脑残屌癌言论太多，新近还看到一个夸大“半残”y染色体价值的，估计真有人信</td>\n",
       "      <td>1.0</td>\n",
       "      <td>3</td>\n",
       "    </tr>\n",
       "    <tr>\n",
       "      <th>95922</th>\n",
       "      <td>Ich muss kotzen... So etwas gibt es nur in Deu...</td>\n",
       "      <td>1.0</td>\n",
       "      <td>5</td>\n",
       "    </tr>\n",
       "  </tbody>\n",
       "</table>\n",
       "</div>"
      ],
      "text/plain": [
       "                                                     text  label  language\n",
       "108239  У нас в России нет чувства налогоплательщика, ...    0.0         6\n",
       "136061                 Çok zekiyim ama kendimi vermiyorum    0.0         7\n",
       "145789  olay AKP/MHP çetesinin, muhalefeti parçalama g...    1.0         7\n",
       "64312   请小姐姐多在知乎发言，那边脑残屌癌言论太多，新近还看到一个夸大“半残”y染色体价值的，估计真有人信    1.0         3\n",
       "95922   Ich muss kotzen... So etwas gibt es nur in Deu...    1.0         5"
      ]
     },
     "execution_count": 11,
     "metadata": {},
     "output_type": "execute_result"
    }
   ],
   "source": [
    "SEED_VALUE = 42\n",
    "seed_everything(SEED_VALUE)\n",
    "# Report the number of sentences.\n",
    "print(f'Number of training samples: {df_train.shape[0]}.\\n')\n",
    "df_train.sample(5)"
   ]
  },
  {
   "cell_type": "markdown",
   "metadata": {},
   "source": [
    "Test samples are spread across several files (one for each language), we will concatenate them in a single test dataset `df_test`."
   ]
  },
  {
   "cell_type": "code",
   "execution_count": 12,
   "metadata": {
    "execution": {
     "iopub.execute_input": "2023-11-11T12:13:19.435106Z",
     "iopub.status.busy": "2023-11-11T12:13:19.434412Z",
     "iopub.status.idle": "2023-11-11T12:13:19.652887Z",
     "shell.execute_reply": "2023-11-11T12:13:19.652031Z",
     "shell.execute_reply.started": "2023-11-11T12:13:19.435074Z"
    }
   },
   "outputs": [
    {
     "name": "stdout",
     "output_type": "stream",
     "text": [
      "Number of test samples: 24449.\n",
      "\n"
     ]
    },
    {
     "data": {
      "text/html": [
       "<div>\n",
       "<style scoped>\n",
       "    .dataframe tbody tr th:only-of-type {\n",
       "        vertical-align: middle;\n",
       "    }\n",
       "\n",
       "    .dataframe tbody tr th {\n",
       "        vertical-align: top;\n",
       "    }\n",
       "\n",
       "    .dataframe thead th {\n",
       "        text-align: right;\n",
       "    }\n",
       "</style>\n",
       "<table border=\"1\" class=\"dataframe\">\n",
       "  <thead>\n",
       "    <tr style=\"text-align: right;\">\n",
       "      <th></th>\n",
       "      <th>text</th>\n",
       "      <th>label</th>\n",
       "    </tr>\n",
       "  </thead>\n",
       "  <tbody>\n",
       "    <tr>\n",
       "      <th>7937</th>\n",
       "      <td>Beaucoup enlevÃ© leur voile pour bosser.</td>\n",
       "      <td>0.0</td>\n",
       "    </tr>\n",
       "    <tr>\n",
       "      <th>16888</th>\n",
       "      <td>Жил в общаге и заполнил заявку, пока они ее од...</td>\n",
       "      <td>0.0</td>\n",
       "    </tr>\n",
       "    <tr>\n",
       "      <th>12981</th>\n",
       "      <td>Pontina, controlli serrati al campo rom di via...</td>\n",
       "      <td>0.0</td>\n",
       "    </tr>\n",
       "    <tr>\n",
       "      <th>11257</th>\n",
       "      <td>Sehr gute Idee, die Legos zu verschönern(Frau ...</td>\n",
       "      <td>0.0</td>\n",
       "    </tr>\n",
       "    <tr>\n",
       "      <th>24168</th>\n",
       "      <td>İnsanın gözü aşina olup kimdi kimdi die düşünm...</td>\n",
       "      <td>0.0</td>\n",
       "    </tr>\n",
       "  </tbody>\n",
       "</table>\n",
       "</div>"
      ],
      "text/plain": [
       "                                                    text  label\n",
       "7937            Beaucoup enlevÃ© leur voile pour bosser.    0.0\n",
       "16888  Жил в общаге и заполнил заявку, пока они ее од...    0.0\n",
       "12981  Pontina, controlli serrati al campo rom di via...    0.0\n",
       "11257  Sehr gute Idee, die Legos zu verschönern(Frau ...    0.0\n",
       "24168  İnsanın gözü aşina olup kimdi kimdi die düşünm...    0.0"
      ]
     },
     "execution_count": 12,
     "metadata": {},
     "output_type": "execute_result"
    }
   ],
   "source": [
    "seed_everything(SEED_VALUE)\n",
    "test_data = '/kaggle/input/multilingual-hatespeech-dataset/Dataset/Testing/Test1/'\n",
    "df_test = pd.DataFrame(columns=['text', 'label'])\n",
    "\n",
    "# concatenate all test files into one DataFrame\n",
    "for file in sorted(os.listdir(test_data)):\n",
    "    file = pd.read_csv(test_data + file, index_col=0)\n",
    "    df_test = pd.concat([df_test, file], axis=0) \n",
    "df_test.reset_index(drop=True, inplace=True)\n",
    "print(f'Number of test samples: {df_test.shape[0]}.\\n')\n",
    "df_test.sample(5)"
   ]
  },
  {
   "cell_type": "code",
   "execution_count": 13,
   "metadata": {
    "execution": {
     "iopub.execute_input": "2023-11-11T12:13:22.522792Z",
     "iopub.status.busy": "2023-11-11T12:13:22.522444Z",
     "iopub.status.idle": "2023-11-11T12:13:22.534407Z",
     "shell.execute_reply": "2023-11-11T12:13:22.533510Z",
     "shell.execute_reply.started": "2023-11-11T12:13:22.522764Z"
    }
   },
   "outputs": [
    {
     "name": "stdout",
     "output_type": "stream",
     "text": [
      "Examples of non-hate texts in Russian:\n",
      "\n",
      "(0, 'Как работает тонометр в фитнес-часах? Добро пожаловать в 21 век!')\n",
      "(1, 'Мне кажется, что ритуал экзорцизма обойдется дешевле Алабая')\n",
      "(2, 'У моего отца стаж с 1971 года (47 лет). И он и сейчас еще работает водителем. Может этой весной уговорим уйти на пенсию.')\n",
      "(3, 'Тотальная дискредитация косплееров это, а не комикс. Что сама идея, что выбор костюма.')\n",
      "(4, 'вот вроде не при делах, но за город стыдно')\n"
     ]
    }
   ],
   "source": [
    "seed_everything(SEED_VALUE)\n",
    "print('Examples of non-hate texts in Russian:\\n')\n",
    "print(*enumerate(df_train[(df_train['language'] == 6) & (df_train['label'] == 0)].sample(5)['text'].values), sep = '\\n')"
   ]
  },
  {
   "cell_type": "code",
   "execution_count": 14,
   "metadata": {
    "execution": {
     "iopub.execute_input": "2023-11-11T12:13:24.399590Z",
     "iopub.status.busy": "2023-11-11T12:13:24.398639Z",
     "iopub.status.idle": "2023-11-11T12:13:24.410216Z",
     "shell.execute_reply": "2023-11-11T12:13:24.409185Z",
     "shell.execute_reply.started": "2023-11-11T12:13:24.399557Z"
    }
   },
   "outputs": [
    {
     "name": "stdout",
     "output_type": "stream",
     "text": [
      "Examples of hate texts in Russian:\n",
      "\n",
      "(0, 'Думаешь термин хохол,москаль во времена интернета придумали.....')\n",
      "(1, 'Ни одной годной сельди: сплошные визгливые шлюхи с мазиком и бабушка открыла секрет .')\n",
      "(2, 'Типичные зумеры-сойбои. Типичные баззворды альтрайта))000')\n",
      "(3, 'Дает, но уродится косоглазо пиздоглазый даун, т.е. руццкий')\n",
      "(4, 'Зачем Алекс Пыня залупается на людей умнее его? Ему нравится полным дебилом на их фоне выглядеть? Был же тот же Золотов, во время срача с которым даже не понятно кто мразотнее поначалу.')\n"
     ]
    }
   ],
   "source": [
    "seed_everything(SEED_VALUE)\n",
    "print('Examples of hate texts in Russian:\\n')\n",
    "print(*enumerate(df_train[(df_train['language'] == 6) & (df_train['label'] == 1)].sample(5)['text'].values), sep = '\\n')"
   ]
  },
  {
   "cell_type": "code",
   "execution_count": 15,
   "metadata": {
    "execution": {
     "iopub.execute_input": "2023-11-11T12:13:26.187431Z",
     "iopub.status.busy": "2023-11-11T12:13:26.186477Z",
     "iopub.status.idle": "2023-11-11T12:13:26.233657Z",
     "shell.execute_reply": "2023-11-11T12:13:26.232746Z",
     "shell.execute_reply.started": "2023-11-11T12:13:26.187398Z"
    }
   },
   "outputs": [
    {
     "name": "stdout",
     "output_type": "stream",
     "text": [
      "<class 'pandas.core.frame.DataFrame'>\n",
      "Index: 219981 entries, 0 to 219980\n",
      "Data columns (total 3 columns):\n",
      " #   Column    Non-Null Count   Dtype  \n",
      "---  ------    --------------   -----  \n",
      " 0   text      219981 non-null  object \n",
      " 1   label     219981 non-null  float64\n",
      " 2   language  219981 non-null  int64  \n",
      "dtypes: float64(1), int64(1), object(1)\n",
      "memory usage: 6.7+ MB\n"
     ]
    }
   ],
   "source": [
    "df_train.info()"
   ]
  },
  {
   "cell_type": "markdown",
   "metadata": {},
   "source": [
    "Let us check that there are not any NaNs in the dataset (just in case)."
   ]
  },
  {
   "cell_type": "code",
   "execution_count": 9,
   "metadata": {
    "execution": {
     "iopub.execute_input": "2023-11-10T16:24:35.106022Z",
     "iopub.status.busy": "2023-11-10T16:24:35.105141Z",
     "iopub.status.idle": "2023-11-10T16:24:35.161294Z",
     "shell.execute_reply": "2023-11-10T16:24:35.160050Z",
     "shell.execute_reply.started": "2023-11-10T16:24:35.105971Z"
    }
   },
   "outputs": [
    {
     "name": "stdout",
     "output_type": "stream",
     "text": [
      "Do features have no NaNs?\n",
      "\n",
      "Training dataset:\n"
     ]
    },
    {
     "data": {
      "text/plain": [
       "text        True\n",
       "label       True\n",
       "language    True\n",
       "dtype: bool"
      ]
     },
     "metadata": {},
     "output_type": "display_data"
    },
    {
     "name": "stdout",
     "output_type": "stream",
     "text": [
      "\n",
      "Test dataset:\n"
     ]
    },
    {
     "data": {
      "text/plain": [
       "text     True\n",
       "label    True\n",
       "dtype: bool"
      ]
     },
     "metadata": {},
     "output_type": "display_data"
    }
   ],
   "source": [
    "print('Do features have no NaNs?')\n",
    "print(f'\\nTraining dataset:')\n",
    "display(df_train.notna().all())\n",
    "\n",
    "print(f'\\nTest dataset:')\n",
    "display(df_test.notna().all())"
   ]
  },
  {
   "cell_type": "markdown",
   "metadata": {},
   "source": [
    "Let us evaluate class distribution for the `label` feature,\n",
    "where 0 - non-hate texts, 1 - hate texts."
   ]
  },
  {
   "cell_type": "code",
   "execution_count": 11,
   "metadata": {
    "execution": {
     "iopub.execute_input": "2023-11-10T13:08:18.681584Z",
     "iopub.status.busy": "2023-11-10T13:08:18.680597Z",
     "iopub.status.idle": "2023-11-10T13:08:19.002055Z",
     "shell.execute_reply": "2023-11-10T13:08:19.000720Z",
     "shell.execute_reply.started": "2023-11-10T13:08:18.681530Z"
    }
   },
   "outputs": [
    {
     "data": {
      "image/png": "[encoded data removed]",
      "text/plain": [
       "<Figure size 500x300 with 1 Axes>"
      ]
     },
     "metadata": {},
     "output_type": "display_data"
    }
   ],
   "source": [
    "import matplotlib.pyplot as plt\n",
    "\n",
    "def plot_distrib(feature):\n",
    "    plt.figure(figsize=(5, 3))\n",
    "    (feature.value_counts(normalize=True)\n",
    "                      .plot(kind='bar', edgecolor='black', zorder=2));\n",
    "    plt.xticks(rotation=0)\n",
    "    plt.grid(zorder=0)\n",
    "    plt.title(f'Class distribution of \"{feature.name}\" feature');\n",
    "plot_distrib(df_train['label'])"
   ]
  },
  {
   "cell_type": "markdown",
   "metadata": {},
   "source": [
    "As we can see classes slightly imbalanced, we will take this observation into account choosing a quality metric."
   ]
  },
  {
   "cell_type": "code",
   "execution_count": 12,
   "metadata": {
    "execution": {
     "iopub.execute_input": "2023-11-10T13:08:21.029337Z",
     "iopub.status.busy": "2023-11-10T13:08:21.028907Z",
     "iopub.status.idle": "2023-11-10T13:08:21.126888Z",
     "shell.execute_reply": "2023-11-10T13:08:21.125545Z",
     "shell.execute_reply.started": "2023-11-10T13:08:21.029299Z"
    }
   },
   "outputs": [
    {
     "name": "stdout",
     "output_type": "stream",
     "text": [
      "An average sentence consists of 129 characters\n"
     ]
    }
   ],
   "source": [
    "len_in_chars = df_train['text'].apply(len)\n",
    "print(f'An average sentence consists of {round(len_in_chars.mean())} characters')"
   ]
  },
  {
   "cell_type": "markdown",
   "metadata": {},
   "source": [
    "Let us calculate mean sentence length in words:"
   ]
  },
  {
   "cell_type": "code",
   "execution_count": 13,
   "metadata": {
    "execution": {
     "iopub.execute_input": "2023-11-10T13:08:28.673720Z",
     "iopub.status.busy": "2023-11-10T13:08:28.672976Z",
     "iopub.status.idle": "2023-11-10T13:08:28.679050Z",
     "shell.execute_reply": "2023-11-10T13:08:28.677897Z",
     "shell.execute_reply.started": "2023-11-10T13:08:28.673680Z"
    }
   },
   "outputs": [],
   "source": [
    "# import string library function  \n",
    "import string  \n",
    "\n",
    "def remove_punctuation(text: str):\n",
    "    '''\n",
    "    This function is used to remove punctuation from lowercased sentences\n",
    "    '''\n",
    "    text = text.lower()\n",
    "    text = [letter for letter in text if letter not in string.punctuation]\n",
    "    if text:\n",
    "        return text\n",
    "    return [text]   "
   ]
  },
  {
   "cell_type": "code",
   "execution_count": 14,
   "metadata": {
    "execution": {
     "iopub.execute_input": "2023-11-10T13:08:30.085710Z",
     "iopub.status.busy": "2023-11-10T13:08:30.084816Z",
     "iopub.status.idle": "2023-11-10T13:08:33.918512Z",
     "shell.execute_reply": "2023-11-10T13:08:33.917024Z",
     "shell.execute_reply.started": "2023-11-10T13:08:30.085662Z"
    }
   },
   "outputs": [
    {
     "name": "stdout",
     "output_type": "stream",
     "text": [
      "An average   text consists of 123 words\n",
      "The shortest text consists of 1 words\n",
      "The longest  text consists of 19167 words\n"
     ]
    }
   ],
   "source": [
    "len_in_words = df_train['text'].apply(lambda x: (len(remove_punctuation(x))))\n",
    "\n",
    "# # Print length of an average sentence\n",
    "print(f'An average   text consists of {round(len_in_words.mean())} words')\n",
    "\n",
    "# Print length of the shortest sentence\n",
    "print(f'The shortest text consists of {round(len_in_words.min())} words')\n",
    "\n",
    "# Print length of the longest sentence\n",
    "print(f'The longest  text consists of {round(len_in_words.max())} words')"
   ]
  },
  {
   "cell_type": "markdown",
   "metadata": {},
   "source": [
    "# 2. Baseline\n",
    "###  2.1. Usage of BERT to get embeddings from the train dataset and data vectorization\n",
    "\n",
    "Download tokenizer and the model from Hugging Face."
   ]
  },
  {
   "cell_type": "code",
   "execution_count": 13,
   "metadata": {
    "_kg_hide-input": true,
    "_kg_hide-output": true,
    "execution": {
     "iopub.execute_input": "2023-11-11T10:19:03.411711Z",
     "iopub.status.busy": "2023-11-11T10:19:03.411042Z",
     "iopub.status.idle": "2023-11-11T10:19:03.416004Z",
     "shell.execute_reply": "2023-11-11T10:19:03.415031Z",
     "shell.execute_reply.started": "2023-11-11T10:19:03.411676Z"
    }
   },
   "outputs": [],
   "source": [
    "from transformers import AutoTokenizer, BertModel"
   ]
  },
  {
   "cell_type": "code",
   "execution_count": 14,
   "metadata": {
    "execution": {
     "iopub.execute_input": "2023-11-11T10:19:07.843338Z",
     "iopub.status.busy": "2023-11-11T10:19:07.843006Z",
     "iopub.status.idle": "2023-11-11T10:19:08.123626Z",
     "shell.execute_reply": "2023-11-11T10:19:08.122613Z",
     "shell.execute_reply.started": "2023-11-11T10:19:07.843312Z"
    }
   },
   "outputs": [
    {
     "name": "stdout",
     "output_type": "stream",
     "text": [
      "Loading BERT tokenizer...\n",
      "Completed!\n"
     ]
    }
   ],
   "source": [
    "# Load pre-trained model tokenizer (vocabulary)\n",
    "print('Loading BERT tokenizer...')\n",
    "base_model = \"bert-base-multilingual-uncased\"\n",
    "tokenizer = AutoTokenizer.from_pretrained(base_model)\n",
    "print('Completed!')"
   ]
  },
  {
   "cell_type": "code",
   "execution_count": 63,
   "metadata": {
    "execution": {
     "iopub.execute_input": "2023-11-11T12:45:30.265075Z",
     "iopub.status.busy": "2023-11-11T12:45:30.264137Z",
     "iopub.status.idle": "2023-11-11T12:45:30.271878Z",
     "shell.execute_reply": "2023-11-11T12:45:30.270885Z",
     "shell.execute_reply.started": "2023-11-11T12:45:30.265039Z"
    }
   },
   "outputs": [],
   "source": [
    "def get_sentence_embedding(text, bert_model):\n",
    "    '''\n",
    "    Input:\n",
    "    text: str - string of raw text\n",
    "    Output:\n",
    "    sentence_embedding: np.array - numpy array of shape (1, 768)\n",
    "                        represents a whole string of raw text\n",
    "    '''\n",
    "    \n",
    "    input_ids, token_type_ids, attention_mask\\\n",
    "                = tokenizer(text, add_special_tokens = True,\n",
    "                            truncation = True, padding = True,\n",
    "                            return_attention_mask = True,    \n",
    "                            return_tensors = \"pt\").values()\n",
    "    with torch.no_grad():      \n",
    "        input_ids = input_ids.to(device)\n",
    "        token_type_ids = token_type_ids.to(device)\n",
    "        attention_mask = attention_mask.to(device)\n",
    "        sentence_embedding = bert_model(input_ids,\n",
    "                                    attention_mask=attention_mask,\n",
    "                                    token_type_ids=token_type_ids)\n",
    "\n",
    "    return sentence_embedding.last_hidden_state[:, 0, :].cpu()\n",
    "                                                        .numpy().squeeze()"
   ]
  },
  {
   "cell_type": "code",
   "execution_count": 16,
   "metadata": {
    "execution": {
     "iopub.execute_input": "2023-11-11T12:13:38.047404Z",
     "iopub.status.busy": "2023-11-11T12:13:38.046430Z",
     "iopub.status.idle": "2023-11-11T12:13:38.211751Z",
     "shell.execute_reply": "2023-11-11T12:13:38.210668Z",
     "shell.execute_reply.started": "2023-11-11T12:13:38.047369Z"
    }
   },
   "outputs": [
    {
     "name": "stdout",
     "output_type": "stream",
     "text": [
      "Examples of train samples:\n"
     ]
    },
    {
     "data": {
      "text/plain": [
       "array(['@twitter @jack ONCE AGAIN we see how CORPORATIONS cause HATE, DIVISION and SUFFERING. Did you know JACK is on #ISIS hit list? Not telling J',\n",
       "       '@user dont enough gook ching chong badly',\n",
       "       'When they see #IS gaining we always hear stuff like: \"ISIL is clearly trying to project strength\". As if to calm down their readers. '],\n",
       "      dtype=object)"
      ]
     },
     "metadata": {},
     "output_type": "display_data"
    },
    {
     "data": {
      "text/plain": [
       "array([0, 0, 1])"
      ]
     },
     "metadata": {},
     "output_type": "display_data"
    },
    {
     "data": {
      "text/plain": [
       "(219981,)"
      ]
     },
     "metadata": {},
     "output_type": "display_data"
    },
    {
     "data": {
      "text/plain": [
       "(24449,)"
      ]
     },
     "metadata": {},
     "output_type": "display_data"
    }
   ],
   "source": [
    "X_train_text = df_train['text'].values\n",
    "y_train = df_train['label'].map(int).values\n",
    "X_test_text = df_test['text'].values\n",
    "y_test = df_test['label'].map(int).values\n",
    "print('Examples of train samples:')\n",
    "display(X_train_text[40000:40003], y_train[40000:40003])\n",
    "display(X_train_text.shape, X_test_text.shape)"
   ]
  },
  {
   "cell_type": "markdown",
   "metadata": {},
   "source": [
    "In order for torch to use the GPU, we need to identify and specify the GPU as the device. Later, in our training loop, we will load data onto the device.\n"
   ]
  },
  {
   "cell_type": "code",
   "execution_count": 19,
   "metadata": {
    "execution": {
     "iopub.execute_input": "2023-11-11T12:13:58.242971Z",
     "iopub.status.busy": "2023-11-11T12:13:58.242564Z",
     "iopub.status.idle": "2023-11-11T12:13:58.338451Z",
     "shell.execute_reply": "2023-11-11T12:13:58.337447Z",
     "shell.execute_reply.started": "2023-11-11T12:13:58.242930Z"
    }
   },
   "outputs": [
    {
     "name": "stdout",
     "output_type": "stream",
     "text": [
      "There are 2 GPU(s) available.\n",
      "We will use the GPU: Tesla T4\n"
     ]
    }
   ],
   "source": [
    "import torch\n",
    "\n",
    "# If there's a GPU available...\n",
    "if torch.cuda.is_available():\n",
    "\n",
    "    # Tell PyTorch to use the GPU.\n",
    "    device = torch.device(\"cuda\")\n",
    "\n",
    "    print('There are %d GPU(s) available.' % torch.cuda.device_count())\n",
    "\n",
    "    print('We will use the GPU:', torch.cuda.get_device_name(0))\n",
    "\n",
    "# If not...\n",
    "else:\n",
    "    print('No GPU available, using the CPU instead.')\n",
    "    device = torch.device(\"cpu\")"
   ]
  },
  {
   "cell_type": "code",
   "execution_count": 66,
   "metadata": {
    "execution": {
     "iopub.execute_input": "2023-11-11T10:39:56.956576Z",
     "iopub.status.busy": "2023-11-11T10:39:56.955870Z",
     "iopub.status.idle": "2023-11-11T10:39:58.768851Z",
     "shell.execute_reply": "2023-11-11T10:39:58.767786Z",
     "shell.execute_reply.started": "2023-11-11T10:39:56.956543Z"
    }
   },
   "outputs": [],
   "source": [
    "bert_model = BertModel.from_pretrained(base_model,\n",
    "                                       output_hidden_states=True)\n",
    "# Put the model in \"evaluation\" mode, meaning feed-forward operation.\n",
    "bert_model = bert_model.eval()\n",
    "bert_model = bert_model.to(device)"
   ]
  },
  {
   "cell_type": "markdown",
   "metadata": {},
   "source": [
    "Let us get sentence embeddings for X_train and X_test, using BERT and helper function implemented above."
   ]
  },
  {
   "cell_type": "code",
   "execution_count": 67,
   "metadata": {
    "execution": {
     "iopub.execute_input": "2023-11-11T10:40:01.055787Z",
     "iopub.status.busy": "2023-11-11T10:40:01.055427Z",
     "iopub.status.idle": "2023-11-11T11:27:18.324051Z",
     "shell.execute_reply": "2023-11-11T11:27:18.323212Z",
     "shell.execute_reply.started": "2023-11-11T10:40:01.055758Z"
    }
   },
   "outputs": [
    {
     "name": "stderr",
     "output_type": "stream",
     "text": [
      "100%|██████████| 219981/219981 [47:16<00:00, 77.55it/s] \n"
     ]
    },
    {
     "name": "stdout",
     "output_type": "stream",
     "text": [
      "Examples of train samples:\n"
     ]
    },
    {
     "data": {
      "text/plain": [
       "array([[-1.32571578e-01, -5.39221466e-02,  4.12117504e-02,\n",
       "        -6.21537343e-02, -2.82101542e-01,  7.20179379e-02,\n",
       "         9.19195414e-02,  3.70926112e-02, -1.83422494e+00,\n",
       "        -7.65472800e-02, -1.81897730e-01, -6.68610036e-02,\n",
       "        -4.62960303e-02,  1.76259249e-01,  2.22217008e-01,\n",
       "         1.28006518e-01, -3.46882222e-03, -3.72550040e-02,\n",
       "        -1.33443414e-03,  1.43960476e-01,  5.51501550e-02,\n",
       "         8.81689861e-02, -1.16819136e-01, -3.66098434e-03,\n",
       "         5.92971623e-01, -1.05108865e-01, -3.20056640e-02,\n",
       "         3.44415987e-03, -2.03993678e+00,  5.22508696e-02,\n",
       "        -2.82742441e-01,  1.12397358e-01, -5.72733674e-03,\n",
       "        -3.89947630e-02, -5.70439510e-02, -1.48010105e-01,\n",
       "         1.22101262e-01,  1.59992445e+00, -8.47419202e-02,\n",
       "        -1.90196023e-03, -7.22740442e-02, -6.42957464e-02,\n",
       "        -1.35879844e-01,  1.13927178e-01, -7.55814314e-02,\n",
       "        -2.97889137e-03,  7.74501339e-02,  6.22660331e-02,\n",
       "        -1.68810204e-01,  1.01719774e-01, -4.84394319e-02,\n",
       "         1.21152736e-01, -6.70330301e-02, -2.63078660e-02,\n",
       "        -7.55778030e-02, -4.09949198e-03,  4.02542576e-03,\n",
       "        -1.43025303e-02, -3.93969230e-02,  1.06849439e-01,\n",
       "         1.87409198e+00,  3.57209444e-02, -1.49277717e-01,\n",
       "         4.59490865e-02,  1.21278472e-01,  1.57107338e-01,\n",
       "         3.91917164e-03,  8.54327530e-02, -2.55603921e-02,\n",
       "         3.41440029e-02,  1.30882740e-01, -4.09710370e-02,\n",
       "         5.32309934e-02, -1.23639792e-01, -9.12879631e-02,\n",
       "        -1.61157727e-01,  3.52332532e-01, -4.09086831e-02,\n",
       "         6.66408287e-03, -3.96519452e-02,  3.43124964e-03,\n",
       "         1.68262050e-03, -1.47800073e-01,  4.47793938e-02,\n",
       "        -3.12920898e-01,  3.22170779e-02,  8.41314122e-02,\n",
       "         5.84585182e-02, -1.53625295e-01, -1.68307588e-01,\n",
       "         3.54727387e-01, -1.59302860e-01, -8.02597776e-02,\n",
       "         6.73061311e-02,  1.14508338e-01,  7.63817728e-02,\n",
       "        -2.54902393e-01,  1.71083069e+00, -1.40062362e-01,\n",
       "         2.35449821e-01, -8.92495457e-03,  1.36633471e-01,\n",
       "         1.92208365e-02, -2.28818618e-02,  2.15293244e-02,\n",
       "        -5.76728908e-03, -1.82284396e-02,  3.83745655e-02,\n",
       "        -5.93341663e-02,  4.53031808e-02,  7.40220428e-01,\n",
       "        -2.65124083e-01,  1.26496941e-01, -3.05514187e-01,\n",
       "         6.85079321e-02,  2.10308880e-02,  2.68776510e-02,\n",
       "        -6.62753284e-02, -1.09186031e-01,  6.72549829e-02,\n",
       "        -1.92566179e-02,  1.68191552e+00, -8.55068862e-02,\n",
       "        -4.19358402e-01, -2.17971995e-01,  6.13925187e-03,\n",
       "        -7.66511783e-02,  3.43041383e-02, -7.63197616e-02,\n",
       "        -6.31598756e-02,  1.83785632e-01, -2.28271983e-03,\n",
       "         1.03491271e+00, -2.47471079e-01,  1.87779844e-01,\n",
       "         1.26414075e-01, -5.66480495e-02,  2.86628995e-02,\n",
       "         2.04885304e-01,  1.53757975e-01, -1.97894238e-02,\n",
       "        -1.86403081e-01,  9.14236717e-03,  5.23661356e-03,\n",
       "        -6.00481294e-02,  1.43435121e-01,  9.12910253e-02,\n",
       "         1.62801668e-01,  6.54706731e-02,  2.47431872e-03,\n",
       "        -9.48293693e-03,  1.07001744e-01,  1.03501044e-01,\n",
       "         1.19306450e-03, -8.79472587e-03,  1.15531102e-01,\n",
       "         3.30187194e-03, -4.30489451e-01, -1.67673957e-02,\n",
       "        -2.99317861e+00, -1.15986757e-01,  6.60085082e-02,\n",
       "         3.98463644e-02, -2.69972831e-02,  1.25519753e+00,\n",
       "         1.21821985e-01, -1.96568295e-03,  2.48795561e-02,\n",
       "        -1.40043318e-01, -5.08886315e-02, -1.02818720e-02,\n",
       "         6.03112429e-02,  1.18047714e-01, -4.11338136e-02,\n",
       "        -1.16022661e-01,  1.31832317e-01, -5.22930399e-02,\n",
       "        -1.33011654e-01, -2.69629434e-02,  1.76117215e-02,\n",
       "         9.09698009e-03,  2.33199418e-01, -7.90003315e-02,\n",
       "        -1.23830941e-02,  7.08051771e-02, -1.90379638e-02,\n",
       "        -8.14739242e-02, -1.17184758e-01, -8.47224072e-02,\n",
       "        -8.82639810e-02,  1.17449589e-01,  8.19735229e-02,\n",
       "        -2.88154483e-02,  1.07521556e-01, -9.07245353e-02,\n",
       "        -1.35712205e-02,  5.16303107e-02,  6.27474487e-02,\n",
       "        -4.84239869e-02,  4.46015783e-02, -5.14132567e-02,\n",
       "         2.62735207e-02,  2.44211517e-02,  1.26508534e-01,\n",
       "         1.94503076e-03,  5.38927596e-03,  1.92468707e-02,\n",
       "        -5.19091636e-02,  3.92900407e-02,  9.35638621e-02,\n",
       "         1.33120373e-01, -4.59419265e-02, -1.23127937e-01,\n",
       "         3.27564366e-02, -1.81634292e-01,  9.46856104e-03,\n",
       "        -1.19194143e-01,  3.35776657e-02,  3.08098411e-03,\n",
       "         1.11672342e-01, -6.51448907e-04, -1.09346455e-03,\n",
       "         1.46468550e-01,  1.00673355e-01, -9.43736285e-02,\n",
       "         9.46155563e-02, -7.74583546e-03, -2.64258105e-02,\n",
       "        -5.18393815e-02,  6.89233560e-03, -1.18950859e-01,\n",
       "         7.13515654e-02,  2.36221012e-02, -3.89936678e-02,\n",
       "         7.21737444e-02, -2.11285338e-01,  1.02101751e-02,\n",
       "         5.60113490e-02, -1.11925825e-02,  1.39650732e-01,\n",
       "         6.04364760e-02, -1.83562338e-01,  1.28362581e-01,\n",
       "         9.48319025e-03,  1.46150362e+00,  1.06809154e-01,\n",
       "         2.66337581e-02, -2.03205615e-01,  1.14929438e-01,\n",
       "        -3.08955461e-02,  1.48715764e-01, -5.51367253e-02,\n",
       "        -1.63334537e+00,  8.04422125e-02, -1.08918950e-01,\n",
       "        -3.17012854e-02,  1.58250466e-01,  3.20827886e-02,\n",
       "        -1.79939307e-02,  1.25192150e-01, -1.59325516e+00,\n",
       "        -1.15286529e-01,  1.54725686e-01, -9.16055292e-02,\n",
       "        -2.81393435e-02, -5.57257645e-02, -4.65737627e-04,\n",
       "         8.96610972e-03, -1.31169230e-01, -1.40692472e-01,\n",
       "         4.93586175e-02,  3.35689932e-02,  6.38557738e-03,\n",
       "         2.14701220e-02,  1.35510415e-01, -7.31595755e-02,\n",
       "        -3.48107442e-02,  1.67242959e-01,  3.54386047e-02,\n",
       "        -6.04657717e-02, -2.44082451e-01, -2.87941158e-01,\n",
       "        -3.48496474e-02, -9.38754231e-02,  4.94341739e-02,\n",
       "        -1.93206787e-01,  3.30585539e-02,  2.42871717e-01,\n",
       "         1.73672345e-02,  6.80962652e-02, -3.02890539e+00,\n",
       "         5.80070838e-02,  2.59432346e-01,  1.31293312e-02,\n",
       "         2.89031193e-02, -1.06269084e-01, -1.40548915e-01,\n",
       "         9.05262306e-02, -4.26544063e-03, -1.46681361e-03,\n",
       "        -1.83348328e-01, -1.59196511e-01,  4.68434654e-02,\n",
       "         1.43149242e-01,  1.08800717e-02, -5.94770201e-02,\n",
       "         2.97442060e-02,  1.44250110e-01, -4.93525684e-01,\n",
       "        -1.03464918e-02, -1.44999707e+00, -9.14355367e-02,\n",
       "        -7.41990656e-02,  6.03555292e-02, -2.35624567e-01,\n",
       "        -4.01218683e-02, -4.66325041e-03, -7.13362768e-02,\n",
       "        -1.23505995e-01, -1.31125718e-01,  2.84084212e-02,\n",
       "         1.42479138e-02, -1.74614638e-02, -1.51371798e-02,\n",
       "         1.97400004e-02,  1.14250250e-01, -4.95124348e-02,\n",
       "        -4.05755304e-02,  1.41836256e-01, -1.38092518e-01,\n",
       "        -6.17346875e-02, -6.68262364e-03, -1.51697397e-02,\n",
       "        -4.16398188e-03,  8.16575214e-02,  4.21953276e-02,\n",
       "        -1.20519862e-01, -1.17498788e-03, -7.66571239e-02,\n",
       "         3.60698849e-02, -1.52319679e-02, -9.12588909e-02,\n",
       "        -6.96119666e-02, -9.72784981e-02,  4.58075479e-02,\n",
       "        -3.16444963e-01,  4.11442714e-04, -9.64413118e-03,\n",
       "        -1.25313565e-01, -8.10893346e-03, -9.54196453e-02,\n",
       "        -9.89527330e-02, -8.64486769e-02, -3.22403044e-01,\n",
       "         7.28504732e-03, -5.18626496e-02,  1.16412314e-02,\n",
       "        -3.73752341e-02,  5.17655239e-02,  8.07635766e-03,\n",
       "        -3.92018445e-02,  4.63402718e-02, -2.10600980e-02,\n",
       "         1.28545672e-01,  4.26099300e-02, -2.22035074e+00,\n",
       "         6.95723221e-02,  5.93057349e-02, -1.86522175e-02,\n",
       "        -1.14456983e-02,  1.19167268e-01, -6.14288598e-02,\n",
       "         8.98717284e-01,  6.44867048e-02, -9.70033929e-02,\n",
       "        -3.42419446e-02,  1.02034928e-02,  2.12751657e-01,\n",
       "        -4.03812617e-01,  4.07029092e-02, -5.40431105e-02,\n",
       "         3.62961888e-02, -1.59666777e-01, -1.38132632e-01,\n",
       "         1.49457194e-02, -3.43375467e-03, -1.30165499e-02,\n",
       "         2.46185232e-02, -3.14264521e-02,  1.81256048e-02,\n",
       "         8.42384249e-02,  3.82085075e-03,  4.17099260e-02,\n",
       "        -2.39900485e-01, -6.35285303e-02, -5.93777537e-01,\n",
       "         1.83967903e-01,  1.72143996e-01, -1.77219704e-01,\n",
       "         6.94704413e-01, -1.12204082e-01,  5.28543890e-02,\n",
       "         3.21173333e-02,  1.58444905e+00, -1.27706662e-01,\n",
       "        -9.24021155e-02,  5.29870577e-02,  4.59728450e-01,\n",
       "         5.83081283e-02, -6.87383950e-01, -1.91485846e+00,\n",
       "        -5.90867586e-02,  1.34128541e-01, -2.72716093e+00,\n",
       "         8.19933712e-02, -1.36167988e-01, -1.72421873e-01,\n",
       "        -2.86218841e-02, -3.85765970e-01,  5.08511141e-02,\n",
       "         3.86881940e-02, -1.70512235e+00,  3.58770117e-02,\n",
       "        -1.12749130e-01,  8.58632848e-02, -6.98712096e-02,\n",
       "        -5.79003207e-02,  1.36448592e-01,  1.45323515e+00,\n",
       "         6.80926517e-02,  1.50884002e-01, -7.34707862e-02,\n",
       "        -3.40242386e-02,  2.30581947e-02,  1.79877151e-02,\n",
       "        -1.33988678e-01,  2.20608309e-01,  1.32238716e-01,\n",
       "         5.30317090e-02,  2.50259154e-02,  1.23844393e-01,\n",
       "        -3.03740660e-03, -6.53152689e-02,  1.35247372e-02,\n",
       "        -6.39114603e-02,  5.55572994e-02,  1.95922144e-02,\n",
       "         2.47723341e+00, -2.56397501e-02,  1.21057294e-01,\n",
       "         3.76458988e-02,  6.62453398e-02,  9.70321074e-02,\n",
       "         1.96518421e-01,  3.25156562e-02,  4.97968979e-02,\n",
       "         5.25927655e-02,  4.85300347e-02, -1.96392499e-02,\n",
       "         1.88437951e+00, -1.52450487e-01,  6.56820536e-02,\n",
       "         2.30054702e-05,  1.41170099e-01, -9.69817638e-02,\n",
       "         6.77869236e-03, -1.88187450e-01, -1.26778603e-01,\n",
       "         1.09431989e-01, -1.51909664e-01,  1.86073303e-01,\n",
       "         4.97580677e-01, -7.65580088e-02, -1.65189076e-02,\n",
       "         2.61402018e-02, -1.91836655e-01, -8.36300030e-02,\n",
       "        -5.71759716e-02, -1.76537618e-01, -9.70062688e-02,\n",
       "        -3.98595743e-02, -8.22280254e-03, -7.57805444e-03,\n",
       "         7.46554602e-03,  3.34476866e-02, -2.46216133e-02,\n",
       "        -1.37925670e-01,  1.23371556e-01, -2.86345631e-02,\n",
       "         1.20545393e-02, -3.85836624e-02, -8.09878036e-02,\n",
       "         4.68434505e-02,  1.36728093e-01, -1.25441802e+00,\n",
       "        -1.52394176e-01,  7.82653317e-02, -1.00644544e-01,\n",
       "         7.56789222e-02,  1.38277411e+00,  7.87110776e-02,\n",
       "        -9.79898572e-02,  1.42772384e-02,  9.88903493e-02,\n",
       "         7.58325011e-02, -6.42356575e-02,  1.47445238e+00,\n",
       "        -4.81477492e-02, -1.26673028e-01,  4.12494503e-02,\n",
       "         1.34979203e-01,  3.79574746e-02, -1.21098824e-01,\n",
       "         6.95916638e-02, -5.32780290e-02, -3.21495235e-02,\n",
       "         1.07301086e-01,  4.68022935e-02,  1.00184977e-01,\n",
       "        -6.21101186e-02,  1.04411297e-01, -1.71084866e-01,\n",
       "         2.42312774e-02, -1.35376155e-01,  1.43031850e-01,\n",
       "         3.97793343e-03,  2.98483744e-02,  6.42637834e-02,\n",
       "         2.97290869e-02,  1.62922776e+00,  5.68028018e-02,\n",
       "        -2.33593751e-02,  1.31145686e-01, -9.07291621e-02,\n",
       "         2.85749324e-02,  2.96211801e-02,  2.18689784e-01,\n",
       "        -6.60414696e-02,  5.62973768e-02,  6.15384988e-02,\n",
       "        -1.76357150e-01, -3.00780050e-02, -1.04931720e-01,\n",
       "         1.25055432e+00, -1.43137068e-01,  1.33093908e-01,\n",
       "        -3.14445019e-01,  6.19124591e-01,  2.77200434e-02,\n",
       "        -4.57062349e-02, -3.21086854e-01, -2.01560948e-02,\n",
       "         1.87001944e-01,  1.85609458e-03, -3.29182111e-02,\n",
       "         5.27245641e-01,  4.48056273e-02,  3.43068130e-02,\n",
       "        -1.06368966e-01, -1.10468678e-01,  3.09312586e-02,\n",
       "        -2.16752794e-02, -1.36945069e-01, -2.38044381e+00,\n",
       "        -1.30384505e-01,  7.87114277e-02,  4.62510698e-02,\n",
       "         8.53881165e-02,  1.87571764e-01,  7.39657953e-02,\n",
       "         1.48938403e-01,  9.82091576e-02, -1.86940804e-01,\n",
       "        -6.08863533e-02, -2.80137844e-02,  1.16246849e-01,\n",
       "         2.64810845e-02,  1.33056799e-02, -1.57533228e-01,\n",
       "         6.50184741e-03, -1.77238230e-02,  1.47160843e-01,\n",
       "         9.41681415e-02,  6.27147332e-02,  5.45560084e-02,\n",
       "         1.30756721e-01,  1.40118986e-01, -8.92550126e-02,\n",
       "        -2.61428561e-02, -1.78470865e-01, -7.80789107e-02,\n",
       "         5.86530790e-02,  8.42371583e-02, -1.34874538e-01,\n",
       "         9.23182294e-02, -1.33205846e-01,  7.34788179e-02,\n",
       "        -9.04425755e-02,  9.72337648e-02,  5.36596417e-01,\n",
       "        -1.08655691e+00,  1.37472257e-01,  4.57932092e-02,\n",
       "        -5.58777014e-03,  1.40443635e+00,  7.64823556e-02,\n",
       "         8.71108696e-02, -3.30669954e-02, -1.07510284e-01,\n",
       "         3.77574973e-02, -9.58145857e-02, -3.99215519e-02,\n",
       "        -1.69817969e-01,  1.64707467e-01,  1.20887719e-01,\n",
       "        -1.47054017e-01,  8.85180533e-02,  1.20820656e-01,\n",
       "         8.96493569e-02, -8.02449510e-02,  1.27548680e-01,\n",
       "        -1.62570179e-01, -1.18035913e-01, -5.47184534e-02,\n",
       "         4.16807048e-02,  1.58248514e-01, -2.55242996e-02,\n",
       "         8.57665017e-02, -4.23317924e-02, -6.93178177e-02,\n",
       "        -1.61191738e+00, -7.07251066e-03, -4.46280725e-02,\n",
       "        -1.56409647e-02,  1.25419334e-01, -2.47683167e-01,\n",
       "         1.15110755e+00,  1.55766264e-01,  6.48787394e-02,\n",
       "        -3.29334103e-02,  1.00693978e-01,  1.82200813e+00,\n",
       "        -6.69879764e-02, -7.65067339e-02,  4.00350476e-03,\n",
       "        -3.82993728e-01, -1.20866774e-02,  1.79005384e-01,\n",
       "        -1.03328727e-01,  1.12623557e-01, -1.94184005e+00,\n",
       "        -1.60807986e-02, -9.53234956e-02, -2.67864787e-03,\n",
       "        -1.71792114e+00, -1.65312052e-01, -2.85269041e-02,\n",
       "        -3.70532423e-02, -9.54191480e-03,  7.23799597e-03,\n",
       "        -5.24470657e-02,  2.08658084e-01, -5.77577129e-02,\n",
       "        -3.22254710e-02, -6.83355555e-02, -5.28850220e-02,\n",
       "         2.28714775e-02, -1.30872428e-02,  1.30224335e+00,\n",
       "        -2.19775462e+00,  4.76598367e-02, -1.44422740e-01,\n",
       "         1.22421615e-01,  9.30279121e-02,  7.75764957e-02,\n",
       "         2.31362715e-01,  1.67768991e+00, -3.20825838e-02,\n",
       "         6.26223832e-02,  5.19144442e-03,  8.53013098e-02,\n",
       "         8.34701508e-02,  7.09673390e-02, -1.12689227e-01,\n",
       "        -4.69943471e-02, -9.00334027e-03,  3.42340046e-03,\n",
       "        -1.58119544e-01,  1.19527332e-01,  1.63034126e-01,\n",
       "        -3.95191163e-02, -6.47036433e-02,  6.63517490e-02,\n",
       "        -1.69899309e+00, -7.60028837e-03, -6.69613481e-02,\n",
       "        -8.28655213e-02, -6.17153645e-02,  2.12569094e+00,\n",
       "         5.30019626e-02,  6.95718750e-02,  9.46446415e-03,\n",
       "         1.70964420e-01, -4.58199531e-02,  1.66336987e-02,\n",
       "        -1.00569231e-02,  1.70994531e-02,  2.34929193e-02,\n",
       "        -7.17848390e-02, -6.39622152e-01,  1.32637501e-01,\n",
       "        -1.79087564e-01, -1.65521484e-02,  5.65874055e-02,\n",
       "        -4.38929088e-02,  2.67238542e-02, -1.39127910e-01,\n",
       "        -1.16669917e-02,  1.16021574e-01,  1.14028707e-01,\n",
       "        -1.34264693e-01, -3.50266993e-02, -2.71098241e-02,\n",
       "         2.06425134e-02,  8.43298659e-02,  5.67031577e-02,\n",
       "        -4.35327291e-02,  2.08741456e-01, -1.68089092e+00,\n",
       "         1.17294133e-01,  1.75118372e-01,  1.59823275e+00,\n",
       "         1.68557884e-03, -8.73627290e-02,  1.45644450e+00,\n",
       "         3.68014872e-02,  1.09038875e-01,  6.71626925e-02,\n",
       "         2.02331878e-03, -1.82292759e-02,  2.16517108e-03,\n",
       "        -1.06241114e-01, -1.73118567e+00, -2.21760654e+00,\n",
       "         2.33570095e-02,  7.01780394e-02,  3.39828208e-02,\n",
       "         4.38472554e-02, -1.54474989e-01,  1.13881372e-01,\n",
       "         2.88351215e-02, -1.60300598e-01,  2.88285743e-02,\n",
       "         3.98485214e-02, -6.35795966e-02,  1.64753739e-02,\n",
       "         1.67413764e-02,  1.13515043e+00, -8.09368789e-02,\n",
       "         1.98425591e+00, -5.59843704e-02, -1.06356718e-01,\n",
       "         1.05644036e-02, -5.31249382e-02, -2.25592285e-01,\n",
       "        -9.10524745e-03, -7.55217001e-02, -7.52891749e-02]], dtype=float32)"
      ]
     },
     "metadata": {},
     "output_type": "display_data"
    },
    {
     "data": {
      "text/plain": [
       "array([0])"
      ]
     },
     "metadata": {},
     "output_type": "display_data"
    },
    {
     "data": {
      "text/plain": [
       "(219981, 768)"
      ]
     },
     "metadata": {},
     "output_type": "display_data"
    }
   ],
   "source": [
    "X_train_path = '/kaggle/working/X_train.npy'\n",
    "if not os.path.exists(X_train_path):\n",
    "    X_train = []\n",
    "    for sample in tqdm(X_train_text):\n",
    "        embedding = get_sentence_embedding(sample, bert_model)\n",
    "        X_train.append(embedding)\n",
    "    X_train = np.array(X_train)\n",
    "    print('Examples of train samples:')\n",
    "    display(X_train[40000:40001], y_train[40000:40001])\n",
    "    display(X_train.shape)"
   ]
  },
  {
   "cell_type": "code",
   "execution_count": 74,
   "metadata": {
    "execution": {
     "iopub.execute_input": "2023-11-11T11:32:51.242026Z",
     "iopub.status.busy": "2023-11-11T11:32:51.241246Z",
     "iopub.status.idle": "2023-11-11T11:38:11.064000Z",
     "shell.execute_reply": "2023-11-11T11:38:11.063029Z",
     "shell.execute_reply.started": "2023-11-11T11:32:51.241988Z"
    }
   },
   "outputs": [
    {
     "name": "stderr",
     "output_type": "stream",
     "text": [
      "100%|██████████| 24449/24449 [05:19<00:00, 76.47it/s]\n"
     ]
    },
    {
     "data": {
      "text/plain": [
       "(24449, 768)"
      ]
     },
     "metadata": {},
     "output_type": "display_data"
    }
   ],
   "source": [
    "X_test_path = '/kaggle/working/X_test.npy'\n",
    "if not os.path.exists(X_test_path):    \n",
    "    X_test = []\n",
    "    for sample in tqdm(X_test_text):\n",
    "        embedding = get_sentence_embedding(sample, bert_model)\n",
    "        X_test.append(embedding)\n",
    "    X_test = np.array(X_test)    \n",
    "    display(X_test.shape)    "
   ]
  },
  {
   "cell_type": "markdown",
   "metadata": {},
   "source": [
    "Since calculations of the sentence embeddings took a while, let us save `X_train` and `X_test` at `/kaggle/working/` directory for futher usage."
   ]
  },
  {
   "cell_type": "code",
   "execution_count": 71,
   "metadata": {
    "execution": {
     "iopub.execute_input": "2023-11-11T11:31:00.762448Z",
     "iopub.status.busy": "2023-11-11T11:31:00.762062Z",
     "iopub.status.idle": "2023-11-11T11:31:00.768596Z",
     "shell.execute_reply": "2023-11-11T11:31:00.767566Z",
     "shell.execute_reply.started": "2023-11-11T11:31:00.762415Z"
    }
   },
   "outputs": [],
   "source": [
    "def save_result(data, file):\n",
    "    '''\n",
    "    Function to save data at local disk\n",
    "    '''\n",
    "    with open(file, 'wb') as f: # save data \n",
    "        np.save(f, data)\n",
    "    with open(file, 'rb') as f:\n",
    "        data_copy = np.load(f)    # read data\n",
    "    if (data_copy == data).all(): # if initial data == saved data \n",
    "        print(f'File {file.split(\"/\")[-1]} saved at local disk')"
   ]
  },
  {
   "cell_type": "code",
   "execution_count": 73,
   "metadata": {
    "execution": {
     "iopub.execute_input": "2023-11-11T11:31:55.757578Z",
     "iopub.status.busy": "2023-11-11T11:31:55.757214Z",
     "iopub.status.idle": "2023-11-11T11:31:55.762146Z",
     "shell.execute_reply": "2023-11-11T11:31:55.761257Z",
     "shell.execute_reply.started": "2023-11-11T11:31:55.757548Z"
    }
   },
   "outputs": [],
   "source": [
    "if not os.path.exists(X_train_path):\n",
    "    save_result(X_train, X_train_path)"
   ]
  },
  {
   "cell_type": "code",
   "execution_count": 76,
   "metadata": {
    "execution": {
     "iopub.execute_input": "2023-11-11T11:38:30.841971Z",
     "iopub.status.busy": "2023-11-11T11:38:30.841582Z",
     "iopub.status.idle": "2023-11-11T11:38:30.939766Z",
     "shell.execute_reply": "2023-11-11T11:38:30.938681Z",
     "shell.execute_reply.started": "2023-11-11T11:38:30.841938Z"
    }
   },
   "outputs": [
    {
     "name": "stdout",
     "output_type": "stream",
     "text": [
      "File X_test.npy saved at local disk\n"
     ]
    }
   ],
   "source": [
    "if not os.path.exists(X_test_path):\n",
    "    save_result(X_test, X_test_path)"
   ]
  },
  {
   "cell_type": "markdown",
   "metadata": {},
   "source": [
    "If X_train and X_test have been already calculated:"
   ]
  },
  {
   "cell_type": "code",
   "execution_count": 17,
   "metadata": {
    "execution": {
     "iopub.execute_input": "2023-11-11T12:13:46.268500Z",
     "iopub.status.busy": "2023-11-11T12:13:46.267781Z",
     "iopub.status.idle": "2023-11-11T12:13:46.512477Z",
     "shell.execute_reply": "2023-11-11T12:13:46.511448Z",
     "shell.execute_reply.started": "2023-11-11T12:13:46.268470Z"
    }
   },
   "outputs": [
    {
     "data": {
      "text/plain": [
       "(219981, 768)"
      ]
     },
     "metadata": {},
     "output_type": "display_data"
    }
   ],
   "source": [
    "X_train_path = '/kaggle/input/bert-embeddings/X_train.npy'\n",
    "if os.path.exists(X_train_path):\n",
    "    with open(X_train_path, 'rb') as f:\n",
    "        X_train = np.load(f)\n",
    "display(X_train.shape)"
   ]
  },
  {
   "cell_type": "code",
   "execution_count": 18,
   "metadata": {
    "execution": {
     "iopub.execute_input": "2023-11-11T12:13:48.126607Z",
     "iopub.status.busy": "2023-11-11T12:13:48.126239Z",
     "iopub.status.idle": "2023-11-11T12:13:48.162817Z",
     "shell.execute_reply": "2023-11-11T12:13:48.161728Z",
     "shell.execute_reply.started": "2023-11-11T12:13:48.126578Z"
    }
   },
   "outputs": [
    {
     "data": {
      "text/plain": [
       "(24449, 768)"
      ]
     },
     "metadata": {},
     "output_type": "display_data"
    }
   ],
   "source": [
    "X_test_path = '/kaggle/input/bert-embeddings/X_test.npy'\n",
    "if os.path.exists(X_test_path):\n",
    "    with open(X_test_path, 'rb') as f:\n",
    "        X_test = np.load(f)\n",
    "display(X_test.shape)"
   ]
  },
  {
   "cell_type": "markdown",
   "metadata": {},
   "source": [
    "### 2.3 Train CatBoostClassifier, using BERT embeddings as features to a classifier."
   ]
  },
  {
   "cell_type": "code",
   "execution_count": 28,
   "metadata": {
    "execution": {
     "iopub.execute_input": "2023-11-11T12:21:08.447843Z",
     "iopub.status.busy": "2023-11-11T12:21:08.447119Z",
     "iopub.status.idle": "2023-11-11T12:21:26.000304Z",
     "shell.execute_reply": "2023-11-11T12:21:25.999451Z",
     "shell.execute_reply.started": "2023-11-11T12:21:08.447812Z"
    }
   },
   "outputs": [
    {
     "data": {
      "text/plain": [
       "<catboost.core.CatBoostClassifier at 0x7fce3cbe7940>"
      ]
     },
     "execution_count": 28,
     "metadata": {},
     "output_type": "execute_result"
    }
   ],
   "source": [
    "from catboost import CatBoostClassifier\n",
    "from sklearn.metrics import accuracy_score\n",
    "# Initialize CatBoostClassifier\n",
    "classifier = CatBoostClassifier(iterations=100,\n",
    "                                task_type=\"GPU\",\n",
    "                                devices=\"0:1\", \n",
    "                                verbose=False)\n",
    "# Fit model\n",
    "classifier.fit(X_train, y_train)"
   ]
  },
  {
   "cell_type": "markdown",
   "metadata": {},
   "source": [
    "Get predictions on the test data and calculate accuracy."
   ]
  },
  {
   "cell_type": "code",
   "execution_count": 29,
   "metadata": {
    "execution": {
     "iopub.execute_input": "2023-11-11T12:22:59.168430Z",
     "iopub.status.busy": "2023-11-11T12:22:59.167426Z",
     "iopub.status.idle": "2023-11-11T12:22:59.968674Z",
     "shell.execute_reply": "2023-11-11T12:22:59.967708Z",
     "shell.execute_reply.started": "2023-11-11T12:22:59.168394Z"
    }
   },
   "outputs": [
    {
     "data": {
      "text/plain": [
       "0.746247290277721"
      ]
     },
     "execution_count": 29,
     "metadata": {},
     "output_type": "execute_result"
    }
   ],
   "source": [
    "# Get predicted classes\n",
    "preds_class = classifier.predict(X_test)\n",
    "accuracy = accuracy_score(y_test, preds_class)\n",
    "accuracy"
   ]
  },
  {
   "cell_type": "code",
   "execution_count": 31,
   "metadata": {
    "execution": {
     "iopub.execute_input": "2023-11-11T12:25:54.211178Z",
     "iopub.status.busy": "2023-11-11T12:25:54.210807Z",
     "iopub.status.idle": "2023-11-11T12:25:54.217952Z",
     "shell.execute_reply": "2023-11-11T12:25:54.216682Z",
     "shell.execute_reply.started": "2023-11-11T12:25:54.211150Z"
    }
   },
   "outputs": [
    {
     "data": {
      "text/plain": [
       "{'baseline': 0.75}"
      ]
     },
     "execution_count": 31,
     "metadata": {},
     "output_type": "execute_result"
    }
   ],
   "source": [
    "results = dict()\n",
    "results['baseline'] = round(accuracy, 2)\n",
    "results"
   ]
  },
  {
   "cell_type": "markdown",
   "metadata": {},
   "source": [
    "# 3. Fine-tune BERT\n",
    "\n",
    "In this section, we will transform our dataset into the format that BERT can be trained on.\n",
    "\n",
    "## 3.1. BERT Tokenizer\n",
    "\n",
    "To feed our text to BERT, it must be split into tokens, and then these tokens must be mapped to their index in the tokenizer vocabulary.\n",
    "\n",
    "The tokenization must be performed by the tokenizer included with BERT - the below cell will download this for us. We will be using the \"multilingual-uncased\" version here (the same version was used for the baseline in paragraph 2.1).\n"
   ]
  },
  {
   "cell_type": "code",
   "execution_count": 32,
   "metadata": {
    "execution": {
     "iopub.execute_input": "2023-11-10T09:29:50.758270Z",
     "iopub.status.busy": "2023-11-10T09:29:50.756649Z",
     "iopub.status.idle": "2023-11-10T09:29:51.044874Z",
     "shell.execute_reply": "2023-11-10T09:29:51.044082Z",
     "shell.execute_reply.started": "2023-11-10T09:29:50.758192Z"
    }
   },
   "outputs": [
    {
     "name": "stdout",
     "output_type": "stream",
     "text": [
      "Loading BERT tokenizer...\n",
      "Completed!\n"
     ]
    }
   ],
   "source": [
    "# Load the BERT tokenizer.\n",
    "print('Loading BERT tokenizer...')\n",
    "base_model = \"bert-base-multilingual-uncased\"\n",
    "tokenizer = AutoTokenizer.from_pretrained(base_model);\n",
    "print('Completed!')"
   ]
  },
  {
   "cell_type": "markdown",
   "metadata": {},
   "source": [
    "When we actually convert all of our sentences, we'll use the `tokenize.encode` function to handle both steps, rather than calling `tokenize` and `convert_tokens_to_ids` separately.\n",
    "\n",
    "Before we can do that, though, we need to talk about some of BERT's formatting requirements.\n",
    "\n",
    "### 3.2. Required Formatting\n",
    "\n",
    "We are required to:\n",
    "1. Add special tokens to the start and end of each sentence.\n",
    "2. Pad & truncate all sentences to a single constant length.\n",
    "3. Explicitly differentiate real tokens from padding tokens with the \"attention mask\".\n",
    "\n",
    "### 3.3. Training & Validation Split, Tokenization"
   ]
  },
  {
   "cell_type": "code",
   "execution_count": 55,
   "metadata": {},
   "outputs": [],
   "source": [
    "from transformers import DataCollatorWithPadding\n",
    "from torch.utils.data import DataLoader\n",
    "from datasets import Dataset\n",
    "\n",
    "from tqdm.auto import tqdm, trange\n",
    "\n",
    "from torch.optim import Adam\n",
    "\n",
    "from sklearn.model_selection import train_test_split"
   ]
  },
  {
   "cell_type": "code",
   "execution_count": 78,
   "metadata": {},
   "outputs": [],
   "source": [
    "df_train['label'] = df_train['label'].map(int)\n",
    "df_test['label'] = df_test['label'].map(int)"
   ]
  },
  {
   "cell_type": "code",
   "execution_count": 14,
   "metadata": {
    "execution": {
     "iopub.execute_input": "2023-11-08T16:12:16.202853Z",
     "iopub.status.busy": "2023-11-08T16:12:16.202117Z",
     "iopub.status.idle": "2023-11-08T16:12:16.517972Z",
     "shell.execute_reply": "2023-11-08T16:12:16.517185Z",
     "shell.execute_reply.started": "2023-11-08T16:12:16.202821Z"
    }
   },
   "outputs": [
    {
     "data": {
      "text/plain": [
       "DatasetDict({\n",
       "    train: Dataset({\n",
       "        features: ['text', 'label'],\n",
       "        num_rows: 197982\n",
       "    })\n",
       "    test: Dataset({\n",
       "        features: ['text', 'label'],\n",
       "        num_rows: 21999\n",
       "    })\n",
       "})"
      ]
     },
     "execution_count": 14,
     "metadata": {},
     "output_type": "execute_result"
    }
   ],
   "source": [
    "from torch.utils.data import TensorDataset, random_split\n",
    "\n",
    "data = Dataset.from_dict({'text': df_train['text'],\n",
    "                          'label': df_train['label']}).train_test_split(test_size=0.1,\n",
    "                                                                        seed=SEED_VALUE)\n",
    "\n",
    "data_test = Dataset.from_dict({'text': df_test['text'],\n",
    "                          'label': df_test['label']})\n",
    "data"
   ]
  },
  {
   "cell_type": "markdown",
   "metadata": {},
   "source": [
    "Let us check distribution of `label` classes in train and test datasets"
   ]
  },
  {
   "cell_type": "code",
   "execution_count": 24,
   "metadata": {
    "execution": {
     "iopub.execute_input": "2023-11-08T08:23:47.763927Z",
     "iopub.status.busy": "2023-11-08T08:23:47.763571Z",
     "iopub.status.idle": "2023-11-08T08:23:49.400113Z",
     "shell.execute_reply": "2023-11-08T08:23:49.399162Z",
     "shell.execute_reply.started": "2023-11-08T08:23:47.763899Z"
    }
   },
   "outputs": [
    {
     "data": {
      "image/png": "[encoded data removed]",
      "text/plain": [
       "<Figure size 500x300 with 1 Axes>"
      ]
     },
     "metadata": {},
     "output_type": "display_data"
    }
   ],
   "source": [
    "plot_distrib(pd.Series(data['train']['label'], name='label'))"
   ]
  },
  {
   "cell_type": "code",
   "execution_count": 25,
   "metadata": {
    "execution": {
     "iopub.execute_input": "2023-11-08T08:24:03.708843Z",
     "iopub.status.busy": "2023-11-08T08:24:03.707959Z",
     "iopub.status.idle": "2023-11-08T08:24:04.148075Z",
     "shell.execute_reply": "2023-11-08T08:24:04.147071Z",
     "shell.execute_reply.started": "2023-11-08T08:24:03.708806Z"
    }
   },
   "outputs": [
    {
     "data": {
      "image/png": "[encoded data removed]",
      "text/plain": [
       "<Figure size 500x300 with 1 Axes>"
      ]
     },
     "metadata": {},
     "output_type": "display_data"
    }
   ],
   "source": [
    "plot_distrib(pd.Series(data['test']['label'], name='label'))"
   ]
  },
  {
   "cell_type": "markdown",
   "metadata": {},
   "source": [
    "Tokenization and formatting of the data."
   ]
  },
  {
   "cell_type": "code",
   "execution_count": 15,
   "metadata": {
    "execution": {
     "iopub.execute_input": "2023-11-08T16:12:25.078727Z",
     "iopub.status.busy": "2023-11-08T16:12:25.077580Z",
     "iopub.status.idle": "2023-11-08T16:12:52.842226Z",
     "shell.execute_reply": "2023-11-08T16:12:52.841253Z",
     "shell.execute_reply.started": "2023-11-08T16:12:25.078693Z"
    }
   },
   "outputs": [
    {
     "data": {
      "application/vnd.jupyter.widget-view+json": {
       "model_id": "32ba7e25d4ca42889b0b51d40d735022",
       "version_major": 2,
       "version_minor": 0
      },
      "text/plain": [
       "  0%|          | 0/198 [00:00<?, ?ba/s]"
      ]
     },
     "metadata": {},
     "output_type": "display_data"
    },
    {
     "data": {
      "application/vnd.jupyter.widget-view+json": {
       "model_id": "89235dd845934dd091d6279ee5d3e68f",
       "version_major": 2,
       "version_minor": 0
      },
      "text/plain": [
       "  0%|          | 0/22 [00:00<?, ?ba/s]"
      ]
     },
     "metadata": {},
     "output_type": "display_data"
    },
    {
     "data": {
      "application/vnd.jupyter.widget-view+json": {
       "model_id": "2976ae9bb4574909b2310a9b7b717515",
       "version_major": 2,
       "version_minor": 0
      },
      "text/plain": [
       "  0%|          | 0/25 [00:00<?, ?ba/s]"
      ]
     },
     "metadata": {},
     "output_type": "display_data"
    }
   ],
   "source": [
    "data_tokenized = data.map(lambda x: tokenizer(x['text'],\n",
    "                          truncation=True, max_length=512),\n",
    "                          batched=True, remove_columns=['text'])\n",
    "data_test_tokenized = data_test.map(lambda x: tokenizer(x['text'],\n",
    "                          truncation=True, max_length=512),\n",
    "                          batched=True, remove_columns=['text'])"
   ]
  },
  {
   "cell_type": "code",
   "execution_count": 81,
   "metadata": {
    "execution": {
     "iopub.execute_input": "2023-11-08T12:01:05.966949Z",
     "iopub.status.busy": "2023-11-08T12:01:05.966577Z",
     "iopub.status.idle": "2023-11-08T12:01:05.973218Z",
     "shell.execute_reply": "2023-11-08T12:01:05.972297Z",
     "shell.execute_reply.started": "2023-11-08T12:01:05.966922Z"
    }
   },
   "outputs": [
    {
     "data": {
      "text/plain": [
       "(DatasetDict({\n",
       "     train: Dataset({\n",
       "         features: ['label', 'input_ids', 'token_type_ids', 'attention_mask'],\n",
       "         num_rows: 197982\n",
       "     })\n",
       "     test: Dataset({\n",
       "         features: ['label', 'input_ids', 'token_type_ids', 'attention_mask'],\n",
       "         num_rows: 21999\n",
       "     })\n",
       " }),\n",
       " Dataset({\n",
       "     features: ['label', 'input_ids', 'token_type_ids', 'attention_mask'],\n",
       "     num_rows: 24449\n",
       " }))"
      ]
     },
     "execution_count": 81,
     "metadata": {},
     "output_type": "execute_result"
    }
   ],
   "source": [
    "data_tokenized, data_test_tokenized"
   ]
  },
  {
   "cell_type": "code",
   "execution_count": 33,
   "metadata": {
    "execution": {
     "iopub.execute_input": "2023-11-08T08:41:33.972407Z",
     "iopub.status.busy": "2023-11-08T08:41:33.972009Z",
     "iopub.status.idle": "2023-11-08T08:41:33.979212Z",
     "shell.execute_reply": "2023-11-08T08:41:33.978057Z",
     "shell.execute_reply.started": "2023-11-08T08:41:33.972376Z"
    }
   },
   "outputs": [
    {
     "name": "stdout",
     "output_type": "stream",
     "text": [
      "{'label': 0, 'input_ids': [101, 21637, 10747, 70044, 37180, 10744, 28232, 56246, 36851, 47346, 11169, 10150, 100, 100, 100, 102], 'token_type_ids': [0, 0, 0, 0, 0, 0, 0, 0, 0, 0, 0, 0, 0, 0, 0, 0], 'attention_mask': [1, 1, 1, 1, 1, 1, 1, 1, 1, 1, 1, 1, 1, 1, 1, 1]}\n"
     ]
    }
   ],
   "source": [
    "print(data_tokenized['train'][0])"
   ]
  },
  {
   "cell_type": "code",
   "execution_count": 16,
   "metadata": {
    "execution": {
     "iopub.execute_input": "2023-11-08T16:12:52.844420Z",
     "iopub.status.busy": "2023-11-08T16:12:52.844109Z",
     "iopub.status.idle": "2023-11-08T16:12:52.848651Z",
     "shell.execute_reply": "2023-11-08T16:12:52.847845Z",
     "shell.execute_reply.started": "2023-11-08T16:12:52.844392Z"
    }
   },
   "outputs": [],
   "source": [
    "collator = DataCollatorWithPadding(tokenizer=tokenizer)"
   ]
  },
  {
   "cell_type": "code",
   "execution_count": 17,
   "metadata": {
    "execution": {
     "iopub.execute_input": "2023-11-08T16:12:52.849982Z",
     "iopub.status.busy": "2023-11-08T16:12:52.849660Z",
     "iopub.status.idle": "2023-11-08T16:12:52.861980Z",
     "shell.execute_reply": "2023-11-08T16:12:52.861206Z",
     "shell.execute_reply.started": "2023-11-08T16:12:52.849957Z"
    }
   },
   "outputs": [],
   "source": [
    "train_dataloader = DataLoader(data_tokenized['train'], shuffle=True,\n",
    "                              batch_size=16, collate_fn=collator)\n",
    "val_dataloader = DataLoader(data_tokenized['test'], shuffle=False,\n",
    "                            batch_size=16, collate_fn=collator)\n",
    "test_dataloader = DataLoader(data_test_tokenized, shuffle=False,\n",
    "                            batch_size=16, collate_fn=collator)"
   ]
  },
  {
   "cell_type": "markdown",
   "metadata": {},
   "source": [
    "### 3.4. Initialize the model, optimizer and learning rate scheduler\n",
    "\n",
    "We'll be using [BertForSequenceClassification](https://huggingface.co/transformers/v2.2.0/model_doc/bert.html#bertforsequenceclassification). This is the normal BERT model with an added single linear layer on top for classification that we will use as a sentence classifier. As we feed input data, the entire pre-trained BERT model and the additional untrained classification layer is trained on our specific task.\n"
   ]
  },
  {
   "cell_type": "code",
   "execution_count": 54,
   "metadata": {},
   "outputs": [],
   "source": [
    "from transformers import AutoModelForMaskedLM, AdamW, BertConfig, BertForSequenceClassification\n",
    "\n",
    "# Load BertForSequenceClassification, the pretrained BERT model with a single\n",
    "# linear classification layer on top.\n",
    "# model = AutoModelForMaskedLM.from_pretrained(\n",
    "model = BertForSequenceClassification.from_pretrained(\n",
    "    base_model, # Use the 12-layer BERT model, with an uncased vocab.\n",
    "    num_labels = 2, # The number of output labels--2 for binary classification.                    \n",
    "    output_attentions = False, # Whether the model returns attentions weights.\n",
    "    output_hidden_states = False, # Whether the model returns all hidden-states.\n",
    ")\n",
    "\n",
    "# Tell pytorch to run this model on the GPU.\n",
    "model.to(device)"
   ]
  },
  {
   "cell_type": "markdown",
   "metadata": {},
   "source": [
    "Just for curiosity's sake, we can browse all of the model's parameters by name here.\n",
    "\n",
    "In the below cell, I've printed out the names and dimensions of the weights for:\n",
    "\n",
    "1. The embedding layer.\n",
    "2. The first of the twelve transformers.\n",
    "3. The output layer."
   ]
  },
  {
   "cell_type": "code",
   "execution_count": 38,
   "metadata": {
    "execution": {
     "iopub.execute_input": "2023-11-08T08:41:53.241946Z",
     "iopub.status.busy": "2023-11-08T08:41:53.241183Z",
     "iopub.status.idle": "2023-11-08T08:41:53.250989Z",
     "shell.execute_reply": "2023-11-08T08:41:53.250022Z",
     "shell.execute_reply.started": "2023-11-08T08:41:53.241910Z"
    }
   },
   "outputs": [
    {
     "name": "stdout",
     "output_type": "stream",
     "text": [
      "The BERT model has 201 different named parameters.\n",
      "\n",
      "==== Embedding Layer ====\n",
      "\n",
      "bert.embeddings.word_embeddings.weight                  (105879, 768)\n",
      "bert.embeddings.position_embeddings.weight                (512, 768)\n",
      "bert.embeddings.token_type_embeddings.weight                (2, 768)\n",
      "bert.embeddings.LayerNorm.weight                              (768,)\n",
      "bert.embeddings.LayerNorm.bias                                (768,)\n",
      "\n",
      "==== First Transformer ====\n",
      "\n",
      "bert.encoder.layer.0.attention.self.query.weight          (768, 768)\n",
      "bert.encoder.layer.0.attention.self.query.bias                (768,)\n",
      "bert.encoder.layer.0.attention.self.key.weight            (768, 768)\n",
      "bert.encoder.layer.0.attention.self.key.bias                  (768,)\n",
      "bert.encoder.layer.0.attention.self.value.weight          (768, 768)\n",
      "bert.encoder.layer.0.attention.self.value.bias                (768,)\n",
      "bert.encoder.layer.0.attention.output.dense.weight        (768, 768)\n",
      "bert.encoder.layer.0.attention.output.dense.bias              (768,)\n",
      "bert.encoder.layer.0.attention.output.LayerNorm.weight        (768,)\n",
      "bert.encoder.layer.0.attention.output.LayerNorm.bias          (768,)\n",
      "bert.encoder.layer.0.intermediate.dense.weight           (3072, 768)\n",
      "bert.encoder.layer.0.intermediate.dense.bias                 (3072,)\n",
      "bert.encoder.layer.0.output.dense.weight                 (768, 3072)\n",
      "bert.encoder.layer.0.output.dense.bias                        (768,)\n",
      "bert.encoder.layer.0.output.LayerNorm.weight                  (768,)\n",
      "bert.encoder.layer.0.output.LayerNorm.bias                    (768,)\n",
      "\n",
      "==== Output Layer ====\n",
      "\n",
      "classifier.weight                                           (2, 768)\n",
      "classifier.bias                                                 (2,)\n"
     ]
    }
   ],
   "source": [
    "# Get all of the model's parameters as a list of tuples.\n",
    "params = list(model.named_parameters())\n",
    "\n",
    "print('The BERT model has {:} different named parameters.\\n'.format(len(params)))\n",
    "\n",
    "print('==== Embedding Layer ====\\n')\n",
    "\n",
    "for p in params[0:5]:\n",
    "    print(\"{:<55} {:>12}\".format(p[0], str(tuple(p[1].size()))))\n",
    "\n",
    "print('\\n==== First Transformer ====\\n')\n",
    "\n",
    "for p in params[5:21]:\n",
    "    print(\"{:<55} {:>12}\".format(p[0], str(tuple(p[1].size()))))\n",
    "\n",
    "print('\\n==== Output Layer ====\\n')\n",
    "\n",
    "for p in params[-2:]:\n",
    "    print(\"{:<55} {:>12}\".format(p[0], str(tuple(p[1].size()))))"
   ]
  },
  {
   "cell_type": "code",
   "execution_count": 39,
   "metadata": {
    "execution": {
     "iopub.execute_input": "2023-11-08T08:41:55.392813Z",
     "iopub.status.busy": "2023-11-08T08:41:55.392050Z",
     "iopub.status.idle": "2023-11-08T08:41:55.399190Z",
     "shell.execute_reply": "2023-11-08T08:41:55.398131Z",
     "shell.execute_reply.started": "2023-11-08T08:41:55.392781Z"
    }
   },
   "outputs": [],
   "source": [
    "# Note: AdamW is a class from the huggingface library (as opposed to pytorch)\n",
    "optimizer = torch.optim.AdamW(model.parameters(),\n",
    "                  lr = 2e-5, # args.learning_rate - default is 5e-5, our notebook had 2e-5\n",
    "                  eps = 1e-8 # args.adam_epsilon  - default is 1e-8.\n",
    "                )"
   ]
  },
  {
   "cell_type": "code",
   "execution_count": 40,
   "metadata": {
    "execution": {
     "iopub.execute_input": "2023-11-08T08:41:55.976669Z",
     "iopub.status.busy": "2023-11-08T08:41:55.975747Z",
     "iopub.status.idle": "2023-11-08T08:41:56.338994Z",
     "shell.execute_reply": "2023-11-08T08:41:56.337756Z",
     "shell.execute_reply.started": "2023-11-08T08:41:55.976632Z"
    }
   },
   "outputs": [],
   "source": [
    "import gc\n",
    "gc.collect()\n",
    "torch.cuda.empty_cache()"
   ]
  },
  {
   "cell_type": "markdown",
   "metadata": {},
   "source": [
    "### 3.5. Training loop and fine-tune BERT"
   ]
  },
  {
   "cell_type": "code",
   "execution_count": 42,
   "metadata": {
    "execution": {
     "iopub.execute_input": "2023-11-08T08:42:17.037151Z",
     "iopub.status.busy": "2023-11-08T08:42:17.036155Z",
     "iopub.status.idle": "2023-11-08T11:23:33.220804Z",
     "shell.execute_reply": "2023-11-08T11:23:33.219731Z",
     "shell.execute_reply.started": "2023-11-08T08:42:17.037115Z"
    }
   },
   "outputs": [
    {
     "data": {
      "application/vnd.jupyter.widget-view+json": {
       "model_id": "4bf646b1dc58466e81508bbf5cdbf110",
       "version_major": 2,
       "version_minor": 0
      },
      "text/plain": [
       "Traning Model on 2 Epochs:   0%|          | 0/2 [00:00<?, ?it/s]"
      ]
     },
     "metadata": {},
     "output_type": "display_data"
    },
    {
     "data": {
      "application/vnd.jupyter.widget-view+json": {
       "model_id": "164b744d440c44348902c5a6ae8c1a65",
       "version_major": 2,
       "version_minor": 0
      },
      "text/plain": [
       "  0%|          | 0/12374 [00:00<?, ?it/s]"
      ]
     },
     "metadata": {},
     "output_type": "display_data"
    },
    {
     "data": {
      "application/vnd.jupyter.widget-view+json": {
       "model_id": "128aa3604bf646e480e17cf4b56083e1",
       "version_major": 2,
       "version_minor": 0
      },
      "text/plain": [
       "Validation phase  1/2:   0%|          | 0/1375 [00:00<?, ?it/s]"
      ]
     },
     "metadata": {},
     "output_type": "display_data"
    },
    {
     "name": "stdout",
     "output_type": "stream",
     "text": [
      "recent train loss: 0.38, eval loss: 0.35, accuracy: 0.84\n"
     ]
    },
    {
     "data": {
      "application/vnd.jupyter.widget-view+json": {
       "model_id": "6125f25ec0f14c08b86b0119a3cae1d9",
       "version_major": 2,
       "version_minor": 0
      },
      "text/plain": [
       "  0%|          | 0/12374 [00:00<?, ?it/s]"
      ]
     },
     "metadata": {},
     "output_type": "display_data"
    },
    {
     "data": {
      "application/vnd.jupyter.widget-view+json": {
       "model_id": "bf86ce6facc7453187c5dd51323b727e",
       "version_major": 2,
       "version_minor": 0
      },
      "text/plain": [
       "Validation phase  2/2:   0%|          | 0/1375 [00:00<?, ?it/s]"
      ]
     },
     "metadata": {},
     "output_type": "display_data"
    },
    {
     "name": "stdout",
     "output_type": "stream",
     "text": [
      "recent train loss: 0.28, eval loss: 0.35, accuracy: 0.86\n"
     ]
    }
   ],
   "source": [
    "EPOCHS = 2\n",
    "losses = []\n",
    "for epoch in trange(EPOCHS, desc=f\"Traning Model on {EPOCHS} Epochs\"):\n",
    "    pbar = tqdm(train_dataloader)\n",
    "    model.train()\n",
    "    for i, batch in enumerate(pbar):\n",
    "        out = model(**batch.to(model.device))\n",
    "        out.loss.backward()\n",
    "        if i % 1 == 0:\n",
    "            optimizer.step()\n",
    "            optimizer.zero_grad()\n",
    "        losses.append(out.loss.item())\n",
    "        pbar.set_description(f'Epoch {epoch + 1}/{EPOCHS}, loss: {np.mean(losses[-100:]):2.2f}')\n",
    "    model.eval()\n",
    "    eval_losses = []\n",
    "    eval_preds = []\n",
    "    eval_targets = []\n",
    "    for batch in tqdm(val_dataloader, desc=f'Validation phase  {epoch + 1}/{EPOCHS}'):\n",
    "        with torch.no_grad():\n",
    "                out = model(**batch.to(model.device))\n",
    "        eval_losses.append(out.loss.item())\n",
    "        eval_preds.extend(out.logits.argmax(1).tolist())\n",
    "        eval_targets.extend(batch['labels'].tolist())\n",
    "    print(f'recent train loss: {np.mean(losses[-100:]):2.2f},',\n",
    "          f'eval loss: {np.mean(eval_losses):2.2f},',\n",
    "          f'accuracy: {np.mean(np.array(eval_targets) == eval_preds):2.2f}')"
   ]
  },
  {
   "cell_type": "markdown",
   "metadata": {},
   "source": [
    "Evaluation on Validation dataset"
   ]
  },
  {
   "cell_type": "code",
   "execution_count": 43,
   "metadata": {
    "execution": {
     "iopub.execute_input": "2023-11-08T11:24:12.737616Z",
     "iopub.status.busy": "2023-11-08T11:24:12.736829Z",
     "iopub.status.idle": "2023-11-08T11:27:01.926407Z",
     "shell.execute_reply": "2023-11-08T11:27:01.925432Z",
     "shell.execute_reply.started": "2023-11-08T11:24:12.737582Z"
    }
   },
   "outputs": [
    {
     "data": {
      "application/vnd.jupyter.widget-view+json": {
       "model_id": "8816f493a5f741348e1859b070bc6dcb",
       "version_major": 2,
       "version_minor": 0
      },
      "text/plain": [
       "  0%|          | 0/1375 [00:00<?, ?it/s]"
      ]
     },
     "metadata": {},
     "output_type": "display_data"
    },
    {
     "name": "stdout",
     "output_type": "stream",
     "text": [
      "eval loss: 0.35, accuracy: 0.86.\n"
     ]
    }
   ],
   "source": [
    "model.eval()\n",
    "eval_losses = []\n",
    "eval_preds = []\n",
    "eval_targets = []\n",
    "for batch in tqdm(val_dataloader):\n",
    "    with torch.no_grad():\n",
    "            out = model(**batch.to(model.device))\n",
    "    eval_losses.append(out.loss.item())\n",
    "    eval_preds.extend(out.logits.argmax(1).tolist())\n",
    "    eval_targets.extend(batch['labels'].tolist())\n",
    "print(f'eval loss: {np.mean(eval_losses):2.2f},',\n",
    "      f'accuracy: {np.mean(np.array(eval_targets) == eval_preds):2.2f}.')"
   ]
  },
  {
   "cell_type": "markdown",
   "metadata": {},
   "source": [
    "Evaluation on a test dataset"
   ]
  },
  {
   "cell_type": "code",
   "execution_count": 83,
   "metadata": {
    "execution": {
     "iopub.execute_input": "2023-11-08T12:01:54.998735Z",
     "iopub.status.busy": "2023-11-08T12:01:54.997927Z",
     "iopub.status.idle": "2023-11-08T12:04:32.958467Z",
     "shell.execute_reply": "2023-11-08T12:04:32.957490Z",
     "shell.execute_reply.started": "2023-11-08T12:01:54.998685Z"
    }
   },
   "outputs": [
    {
     "data": {
      "application/vnd.jupyter.widget-view+json": {
       "model_id": "0e5e8eefa67a453bbc7a8effd312550f",
       "version_major": 2,
       "version_minor": 0
      },
      "text/plain": [
       "  0%|          | 0/1529 [00:00<?, ?it/s]"
      ]
     },
     "metadata": {},
     "output_type": "display_data"
    },
    {
     "name": "stdout",
     "output_type": "stream",
     "text": [
      "eval loss: 0.34, accuracy: 0.86.\n"
     ]
    }
   ],
   "source": [
    "model.eval()\n",
    "eval_losses = []\n",
    "eval_preds = []\n",
    "eval_targets = []\n",
    "for batch in tqdm(test_dataloader):\n",
    "    with torch.no_grad():\n",
    "            out = model(**batch.to(model.device))\n",
    "    eval_losses.append(out.loss.item())\n",
    "    eval_preds.extend(out.logits.argmax(1).tolist())\n",
    "    eval_targets.extend(batch['labels'].tolist())\n",
    "print(f'eval loss: {np.mean(eval_losses):2.2f},',\n",
    "      f'accuracy: {np.mean(np.array(eval_targets) == eval_preds):2.2f}.')"
   ]
  },
  {
   "cell_type": "code",
   "execution_count": 32,
   "metadata": {
    "execution": {
     "iopub.execute_input": "2023-11-11T12:27:03.019792Z",
     "iopub.status.busy": "2023-11-11T12:27:03.019417Z",
     "iopub.status.idle": "2023-11-11T12:27:03.026818Z",
     "shell.execute_reply": "2023-11-11T12:27:03.025705Z",
     "shell.execute_reply.started": "2023-11-11T12:27:03.019762Z"
    }
   },
   "outputs": [
    {
     "data": {
      "text/plain": [
       "{'baseline': 0.75, 'fine_tuned_BERT': 0.86}"
      ]
     },
     "execution_count": 32,
     "metadata": {},
     "output_type": "execute_result"
    }
   ],
   "source": [
    "accuracy = 0.86\n",
    "results['fine_tuned_BERT'] = round(accuracy, 2)\n",
    "results"
   ]
  },
  {
   "cell_type": "code",
   "execution_count": 45,
   "metadata": {
    "execution": {
     "iopub.execute_input": "2023-11-08T11:35:14.641341Z",
     "iopub.status.busy": "2023-11-08T11:35:14.640941Z",
     "iopub.status.idle": "2023-11-08T11:35:16.001962Z",
     "shell.execute_reply": "2023-11-08T11:35:16.000987Z",
     "shell.execute_reply.started": "2023-11-08T11:35:14.641312Z"
    }
   },
   "outputs": [
    {
     "data": {
      "text/plain": [
       "('/kaggle/working/model_2epochs/tokenizer_config.json',\n",
       " '/kaggle/working/model_2epochs/special_tokens_map.json',\n",
       " '/kaggle/working/model_2epochs/vocab.txt',\n",
       " '/kaggle/working/model_2epochs/added_tokens.json',\n",
       " '/kaggle/working/model_2epochs/tokenizer.json')"
      ]
     },
     "execution_count": 45,
     "metadata": {},
     "output_type": "execute_result"
    }
   ],
   "source": [
    "model_path = '/kaggle/working/model_2epochs'\n",
    "model.save_pretrained(model_path)\n",
    "tokenizer.save_pretrained(model_path)"
   ]
  },
  {
   "cell_type": "markdown",
   "metadata": {},
   "source": [
    "Inference on a random text"
   ]
  },
  {
   "cell_type": "code",
   "execution_count": 157,
   "metadata": {
    "execution": {
     "iopub.execute_input": "2023-11-08T17:21:08.408486Z",
     "iopub.status.busy": "2023-11-08T17:21:08.408066Z",
     "iopub.status.idle": "2023-11-08T17:21:08.415671Z",
     "shell.execute_reply": "2023-11-08T17:21:08.414582Z",
     "shell.execute_reply.started": "2023-11-08T17:21:08.408454Z"
    }
   },
   "outputs": [],
   "source": [
    "test_sentences = [\"Дорогие россияне! С новым годом!\",\n",
    "                  \"I'd like to congratulate you on Halloween, wish you bad luck, bustard\",\n",
    "                  \"A freshman year was a disaster!\",\n",
    "                  \"WOW, it's an apple watch, great present ever!\",\n",
    "                  \"Подходи, буржуй, глазик выколю\",\n",
    "                  \"Ich kann nicht conzentriren!\"]\n",
    "test_sentences_tokenized = [tokenizer(test_sentence, truncation=True,\n",
    "                 max_length=512, return_tensors='pt') for test_sentence in test_sentences]"
   ]
  },
  {
   "cell_type": "code",
   "execution_count": 158,
   "metadata": {
    "execution": {
     "iopub.execute_input": "2023-11-08T17:21:10.516304Z",
     "iopub.status.busy": "2023-11-08T17:21:10.515940Z",
     "iopub.status.idle": "2023-11-08T17:21:10.919507Z",
     "shell.execute_reply": "2023-11-08T17:21:10.918468Z",
     "shell.execute_reply.started": "2023-11-08T17:21:10.516276Z"
    }
   },
   "outputs": [
    {
     "name": "stdout",
     "output_type": "stream",
     "text": [
      "You are good!\n",
      "Your text has curse words and won't be published!\n",
      "You are good!\n",
      "You are good!\n",
      "Your text has curse words and won't be published!\n",
      "You are good!\n"
     ]
    }
   ],
   "source": [
    "model.eval()\n",
    "for sentence in test_sentences_tokenized:\n",
    "    with torch.no_grad():\n",
    "        out = model(**sentence.to(model.device))\n",
    "        result = out.logits.argmax().item()\n",
    "        if result:\n",
    "            print(\"Your text has curse words and won't be published!\")\n",
    "        else:\n",
    "            print('You are good!')"
   ]
  },
  {
   "cell_type": "markdown",
   "metadata": {},
   "source": [
    "Results of predictions on random texts are quite good: all hate texts were successfully identified."
   ]
  },
  {
   "cell_type": "markdown",
   "metadata": {},
   "source": [
    "# Conclusion"
   ]
  },
  {
   "cell_type": "code",
   "execution_count": 62,
   "metadata": {
    "execution": {
     "iopub.execute_input": "2023-11-11T12:33:18.891306Z",
     "iopub.status.busy": "2023-11-11T12:33:18.890968Z",
     "iopub.status.idle": "2023-11-11T12:33:18.897110Z",
     "shell.execute_reply": "2023-11-11T12:33:18.895927Z",
     "shell.execute_reply.started": "2023-11-11T12:33:18.891280Z"
    }
   },
   "outputs": [
    {
     "name": "stdout",
     "output_type": "stream",
     "text": [
      "For baseline        accuracy is 0.75.\n",
      "For fine_tuned_BERT accuracy is 0.86.\n"
     ]
    }
   ],
   "source": [
    "for key, value in results.items():\n",
    "    print(f'For {key:<15} accuracy is {value}.')"
   ]
  },
  {
   "cell_type": "markdown",
   "metadata": {},
   "source": [
    "In our project, we compared the accuracy of two approaches:\n",
    " - baseline: CatBoosClassifier, using Bert embeddings, gave us an accuracy of 0.75;\n",
    " - a pre-trained BERT fine-tuned for our downstream task achieved an accuracy of 0.86 (due to lack of computing resources, the training process took only two epochs).\n",
    " \n",
    "Thus, we received an 11% increase in accuracy.\n",
    "We can conclude that a fine-tuned neural network based on the Transformers architecture can achieve significantly better results on an NLP task."
   ]
  }
 ],
 "metadata": {
  "kernelspec": {
   "display_name": "Python 3",
   "language": "python",
   "name": "python3"
  },
  "language_info": {
   "codemirror_mode": {
    "name": "ipython",
    "version": 3
   },
   "file_extension": ".py",
   "mimetype": "text/x-python",
   "name": "python",
   "nbconvert_exporter": "python",
   "pygments_lexer": "ipython3",
   "version": "3.7.15"
  }
 },
 "nbformat": 4,
 "nbformat_minor": 4
}
